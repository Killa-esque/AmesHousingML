{
 "cells": [
  {
   "cell_type": "code",
   "execution_count": 2,
   "metadata": {},
   "outputs": [],
   "source": [
    "import pandas as pd"
   ]
  },
  {
   "cell_type": "markdown",
   "metadata": {},
   "source": [
    "# Read CSV file"
   ]
  },
  {
   "cell_type": "code",
   "execution_count": 3,
   "metadata": {},
   "outputs": [],
   "source": [
    "df = pd.read_csv('AmesHousing.csv')\n",
    "df.drop(['PID', 'Order'], axis=1, inplace=True)"
   ]
  },
  {
   "cell_type": "markdown",
   "metadata": {},
   "source": [
    "- Mô tả của dữ liệu dược nói rõ hơn ở trong file [data_description.txt](./data_description.txt)"
   ]
  },
  {
   "cell_type": "code",
   "execution_count": 11,
   "metadata": {},
   "outputs": [
    {
     "data": {
      "text/plain": [
       "Index(['MS SubClass', 'MS Zoning', 'Lot Frontage', 'Lot Area', 'Street',\n",
       "       'Alley', 'Lot Shape', 'Land Contour', 'Utilities', 'Lot Config',\n",
       "       'Land Slope', 'Neighborhood', 'Condition 1', 'Condition 2', 'Bldg Type',\n",
       "       'House Style', 'Overall Qual', 'Overall Cond', 'Year Built',\n",
       "       'Year Remod/Add', 'Roof Style', 'Roof Matl', 'Exterior 1st',\n",
       "       'Exterior 2nd', 'Mas Vnr Type', 'Mas Vnr Area', 'Exter Qual',\n",
       "       'Exter Cond', 'Foundation', 'Bsmt Qual', 'Bsmt Cond', 'Bsmt Exposure',\n",
       "       'BsmtFin Type 1', 'BsmtFin SF 1', 'BsmtFin Type 2', 'BsmtFin SF 2',\n",
       "       'Bsmt Unf SF', 'Total Bsmt SF', 'Heating', 'Heating QC', 'Central Air',\n",
       "       'Electrical', '1st Flr SF', '2nd Flr SF', 'Low Qual Fin SF',\n",
       "       'Gr Liv Area', 'Bsmt Full Bath', 'Bsmt Half Bath', 'Full Bath',\n",
       "       'Half Bath', 'Bedroom AbvGr', 'Kitchen AbvGr', 'Kitchen Qual',\n",
       "       'TotRms AbvGrd', 'Functional', 'Fireplaces', 'Fireplace Qu',\n",
       "       'Garage Type', 'Garage Yr Blt', 'Garage Finish', 'Garage Cars',\n",
       "       'Garage Area', 'Garage Qual', 'Garage Cond', 'Paved Drive',\n",
       "       'Wood Deck SF', 'Open Porch SF', 'Enclosed Porch', '3Ssn Porch',\n",
       "       'Screen Porch', 'Pool Area', 'Pool QC', 'Fence', 'Misc Feature',\n",
       "       'Misc Val', 'Mo Sold', 'Yr Sold', 'Sale Type', 'Sale Condition',\n",
       "       'SalePrice'],\n",
       "      dtype='object')"
      ]
     },
     "execution_count": 11,
     "metadata": {},
     "output_type": "execute_result"
    }
   ],
   "source": [
    "df.columns"
   ]
  },
  {
   "cell_type": "markdown",
   "metadata": {},
   "source": [
    "1. Đặc điểm lô đất:\n",
    "    - `MS SubClass`: Loại nhà (one-story, two-story, etc.)\n",
    "    - `MS Zoning`: Phân vùng khu vực (Residential, Commercial, etc.)\n",
    "    - `Lot Frontage`: Chiều dài mặt tiền\n",
    "    - `Lot Area`: Diện tích lô đất\n",
    "    - `Street`: Đường tiếp giáp (Paved, Gravel, etc.)\n",
    "    - `Alley`: Lối đi phía sau nhà (Paved, Gravel, etc.)\n",
    "    - `Lot Shape`: Hình dạng lô đất (Regular, Irregular, etc.)\n",
    "    - `Land Contour`: Địa hình (Flat, Hilly, etc.)\n",
    "    - `Utilities`: Tiện ích có sẵn (All public utilities, No sewer, etc.)\n",
    "    - `Lot Config`: Cấu hình lô đất (Inside, Corner, etc.)\n",
    "    - `Land Slope`: Độ dốc đất (Flat, Slight Slope, etc.)\n",
    "    - `Neighborhood`: Vùng lân cận"
   ]
  },
  {
   "cell_type": "markdown",
   "metadata": {},
   "source": [
    "2. Đặc điểm nhà:\n",
    "    - `Condition 1`: Tình trạng nhà (Excellent, Good, etc.)\n",
    "    - `Condition 2`: Tình trạng nhà phụ thuộc\n",
    "    - `Bldg Type`: Kiểu nhà (Detached, Two-family attached, etc.)\n",
    "    - `House Style`: Kiểu dáng nhà (Cape Cod, Colonial, etc.)\n",
    "    - `Overall Qual`: Chất lượng xây dựng tổng thể\n",
    "    - `Overall Cond`: Tình trạng nhà tổng thể\n",
    "    - `Year Built`: Năm xây dựng\n",
    "    - `Year Remod`/Add: Năm cải tạo/cơi nới\n",
    "    - `Roof Style`: Kiểu mái (Gable, Hip, etc.)\n",
    "    - `Roof Matl`: Vật liệu mái (Metal, Slate, etc.)\n",
    "    - `Exterior 1st`: Vật liệu ngoại thất chính\n",
    "    - `Exterior 2nd`: Vật liệu ngoại thất phụ\n",
    "    - `Mas Vnr` Type: Kiểu ốp mặt tiền\n",
    "    - `Mas Vnr` Area: Diện tích ốp mặt tiền\n",
    "    - `Exter Qual`: Chất lượng ngoại thất\n",
    "    - `Exter Cond`: Tình trạng ngoại thất\n",
    "    - `Foundation:` Kiểu móng nhà\n",
    "    - `Bsmt Qual`: Chất lượng tầng hầm\n",
    "    - `Bsmt Cond`: Tình trạng tầng hầm\n",
    "    - `Bsmt Exposure`: Mức độ tiếp xúc của tầng hầm với mặt đất\n",
    "    - `BsmtFin Type 1`: Kiểu hoàn thiện tầng hầm 1\n",
    "    - `BsmtFin SF 1`: Diện tích hoàn thiện tầng hầm 1\n",
    "    - `BsmtFin Type 2`: Kiểu hoàn thiện tầng hầm 2\n",
    "    - `BsmtFin SF 2`: Diện tích hoàn thiện tầng hầm 2\n",
    "    - `Bsmt Unf SF`: Diện tích chưa hoàn thiện của tầng hầm\n",
    "    - `Total Bsmt SF`: Tổng diện tích tầng hầm\n"
   ]
  },
  {
   "cell_type": "markdown",
   "metadata": {},
   "source": [
    "3. Đặc điểm hệ thống:\n",
    "    - `Heating`: Hệ thống sưởi ấm\n",
    "    - `Heating QC`: Chất lượng hệ thống sưởi ấm\n",
    "    - `Central Air`: Điều hòa không khí\n",
    "    - `Electrical`: Hệ thống điện\n"
   ]
  },
  {
   "cell_type": "markdown",
   "metadata": {},
   "source": [
    "4. Diện tích:\n",
    "    - `1st Flr SF`: Diện tích tầng 1\n",
    "    - `2nd Flr SF`: Diện tích tầng 2\n",
    "    - `Low Qual Fin SF`: Diện tích hoàn thiện chất lượng thấp\n",
    "    - `Gr Liv Area`: Diện tích sàn sinh hoạt\n"
   ]
  },
  {
   "cell_type": "markdown",
   "metadata": {},
   "source": [
    "5. Phòng tắm và phòng ngủ:\n",
    "    - `Bsmt Full Bath`: Số phòng tắm đầy đủ tầng hầm\n",
    "    - `Bsmt Half Bath`: Số phòng tắm nửa tầng hầm\n",
    "    - `Full Bath`: Số phòng tắm đầy đủ\n",
    "    - `Half Bath`: Số phòng tắm nửa\n",
    "    - `Bedroom AbvGr`: Số phòng ngủ trên tầng\n",
    "    - `Kitchen AbvGr`: Số bếp trên tầng\n"
   ]
  },
  {
   "cell_type": "markdown",
   "metadata": {},
   "source": [
    "6. Đặc điểm khác:\n",
    "    - `Kitchen Qual`: Chất lượng nhà bếp\n",
    "    - `TotRms AbvGrd`: Tổng số phòng trên tầng\n",
    "    - `Functional`: Chức năng tổng thể của nhà\n",
    "    - `Fireplaces`: Số lò sưởi\n",
    "    - `Fireplace Qu`: Chất lượng lò sưởi\n",
    "    - `Garage Type`: Kiểu gara\n",
    "    - `Garage Yr Blt`: Năm xây dựng gara\n",
    "    - `Garage Finish`: Hoàn thiện gara\n",
    "    - `Garage Cars`: Số chỗ đỗ xe trong gara\n",
    "    - `Garage Area`: Diện tích gara\n",
    "    - `Garage Qual`: Chất lượng gara\n",
    "    - `Garage Cond`: Tình trạng gara\n",
    "    - `Paved Drive`: Đường lái xe được lát đá\n",
    "    - `Wood Deck SF`: Diện tích sàn gỗ\n",
    "    - `Open Porch SF`: Diện tích hiên mở\n",
    "    - `Enclosed Porch`: Diện tích hiên kín\n",
    "    - `3Ssn Porch`: Diện tích hiên nhà ba mùa tính bằng mét vuông"
   ]
  },
  {
   "cell_type": "markdown",
   "metadata": {},
   "source": [
    "- Danh sách các features có kiểu dữ liệu là numerical và categorical"
   ]
  },
  {
   "cell_type": "code",
   "execution_count": 16,
   "metadata": {},
   "outputs": [
    {
     "name": "stdout",
     "output_type": "stream",
     "text": [
      "Chúng ta có 37 columns numerical: \n",
      " Index(['MS SubClass', 'Lot Frontage', 'Lot Area', 'Overall Qual',\n",
      "       'Overall Cond', 'Year Built', 'Year Remod/Add', 'Mas Vnr Area',\n",
      "       'BsmtFin SF 1', 'BsmtFin SF 2', 'Bsmt Unf SF', 'Total Bsmt SF',\n",
      "       '1st Flr SF', '2nd Flr SF', 'Low Qual Fin SF', 'Gr Liv Area',\n",
      "       'Bsmt Full Bath', 'Bsmt Half Bath', 'Full Bath', 'Half Bath',\n",
      "       'Bedroom AbvGr', 'Kitchen AbvGr', 'TotRms AbvGrd', 'Fireplaces',\n",
      "       'Garage Yr Blt', 'Garage Cars', 'Garage Area', 'Wood Deck SF',\n",
      "       'Open Porch SF', 'Enclosed Porch', '3Ssn Porch', 'Screen Porch',\n",
      "       'Pool Area', 'Misc Val', 'Mo Sold', 'Yr Sold', 'SalePrice'],\n",
      "      dtype='object')\n"
     ]
    }
   ],
   "source": [
    "numerical_features = df.select_dtypes(exclude=['object'])\n",
    "print(f\"Chúng ta có {numerical_features.shape[1]} columns numerical: \\n\", numerical_features.columns)"
   ]
  },
  {
   "cell_type": "code",
   "execution_count": 17,
   "metadata": {},
   "outputs": [
    {
     "name": "stdout",
     "output_type": "stream",
     "text": [
      "Chúng ta có 43 columns numerical: \n",
      " Index(['MS Zoning', 'Street', 'Alley', 'Lot Shape', 'Land Contour',\n",
      "       'Utilities', 'Lot Config', 'Land Slope', 'Neighborhood', 'Condition 1',\n",
      "       'Condition 2', 'Bldg Type', 'House Style', 'Roof Style', 'Roof Matl',\n",
      "       'Exterior 1st', 'Exterior 2nd', 'Mas Vnr Type', 'Exter Qual',\n",
      "       'Exter Cond', 'Foundation', 'Bsmt Qual', 'Bsmt Cond', 'Bsmt Exposure',\n",
      "       'BsmtFin Type 1', 'BsmtFin Type 2', 'Heating', 'Heating QC',\n",
      "       'Central Air', 'Electrical', 'Kitchen Qual', 'Functional',\n",
      "       'Fireplace Qu', 'Garage Type', 'Garage Finish', 'Garage Qual',\n",
      "       'Garage Cond', 'Paved Drive', 'Pool QC', 'Fence', 'Misc Feature',\n",
      "       'Sale Type', 'Sale Condition'],\n",
      "      dtype='object')\n"
     ]
    }
   ],
   "source": [
    "categorical_features = df.select_dtypes(include=['object'])\n",
    "print(f\"Chúng ta có {categorical_features.shape[1]} columns numerical: \\n\", categorical_features.columns)"
   ]
  }
 ],
 "metadata": {
  "kernelspec": {
   "display_name": "Python 3",
   "language": "python",
   "name": "python3"
  },
  "language_info": {
   "codemirror_mode": {
    "name": "ipython",
    "version": 3
   },
   "file_extension": ".py",
   "mimetype": "text/x-python",
   "name": "python",
   "nbconvert_exporter": "python",
   "pygments_lexer": "ipython3",
   "version": "3.10.13"
  }
 },
 "nbformat": 4,
 "nbformat_minor": 2
}
